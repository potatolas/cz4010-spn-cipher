{
 "cells": [
  {
   "cell_type": "markdown",
   "metadata": {},
   "source": [
    "# Linear Cryptanalysis"
   ]
  },
  {
   "cell_type": "code",
   "execution_count": 1,
   "metadata": {},
   "outputs": [],
   "source": [
    "from classes import *\n",
    "from utils import *\n",
    "from data import known_ciphertext, known_plaintext\n",
    "from analysis import *"
   ]
  },
  {
   "cell_type": "markdown",
   "metadata": {},
   "source": [
    "- The implementation of the Substitution Permutation Network can be found in classes.py.  \n",
    "- The functions used for the linear cryptanalysis approach can be found in analysis.py.\n",
    "- The known plaintext-ciphertext pairs used in the Known Plaintext Attack can be found in data.py.\n",
    "- Other necessary functions can be found in utils.py."
   ]
  },
  {
   "cell_type": "markdown",
   "metadata": {},
   "source": [
    "## 1 Analysing Cipher Components\n",
    "We create the linear approximation table and initialise a Substitution Box."
   ]
  },
  {
   "cell_type": "code",
   "execution_count": 2,
   "metadata": {},
   "outputs": [],
   "source": [
    "linear_approx_table = {} # save as dictionary before visualisation\n",
    "sbox = SubBox()"
   ]
  },
  {
   "cell_type": "markdown",
   "metadata": {},
   "source": [
    "We create linear equations and calculate the probabilities for each equation holding true. For example, take the equation as follows: \n",
    "\n",
    "$\\quad$ X<sub>2</sub> $\\oplus$ X<sub>3</sub> $\\oplus$ X<sub>4</sub> = Y<sub>2</sub>\n",
    "\n",
    "This means we apply a binary mask of [0 1 1 1] to the input bits and a binary mask of [0 1 0 0] to the corresponding output bits, and check to see if the XOR sum of the left hand side of the equation is equal to the XOR sum of the right hand side of the equation.\n",
    "\n",
    "Each pair of input mask and output mask gives a unique equation. For every input-output pair (16 pairs, where each input gives 1 output), we count the number of times the equation is true.\n",
    "\n",
    "For a perfectly random substitution box, the distribution should be $\\frac{1}{2}$ for all equations. As practically the randomness is not perfect, there is a bias for each equation. The bias refers to the deviation from $\\frac{1}{2}$ that the equation holds true.\n",
    "\n",
    "To calculate the deviation, we take the number of times the equation is true and subtract it by half the number of times it is tested, which in this case is 8. The table is then populated by the deviations. "
   ]
  },
  {
   "cell_type": "code",
   "execution_count": 3,
   "metadata": {},
   "outputs": [],
   "source": [
    "linear_approx_table = generate_linear_approx_table(linear_approx_table, sbox)"
   ]
  },
  {
   "cell_type": "markdown",
   "metadata": {},
   "source": [
    "### 1.1 Representing the table as a Pandas DataFrame"
   ]
  },
  {
   "cell_type": "code",
   "execution_count": 4,
   "metadata": {},
   "outputs": [
    {
     "data": {
      "text/html": [
       "<div>\n",
       "<style scoped>\n",
       "    .dataframe tbody tr th:only-of-type {\n",
       "        vertical-align: middle;\n",
       "    }\n",
       "\n",
       "    .dataframe tbody tr th {\n",
       "        vertical-align: top;\n",
       "    }\n",
       "\n",
       "    .dataframe thead th {\n",
       "        text-align: right;\n",
       "    }\n",
       "</style>\n",
       "<table border=\"1\" class=\"dataframe\">\n",
       "  <thead>\n",
       "    <tr style=\"text-align: right;\">\n",
       "      <th></th>\n",
       "      <th>0</th>\n",
       "      <th>1</th>\n",
       "      <th>2</th>\n",
       "      <th>3</th>\n",
       "      <th>4</th>\n",
       "      <th>5</th>\n",
       "      <th>6</th>\n",
       "      <th>7</th>\n",
       "      <th>8</th>\n",
       "      <th>9</th>\n",
       "      <th>10</th>\n",
       "      <th>11</th>\n",
       "      <th>12</th>\n",
       "      <th>13</th>\n",
       "      <th>14</th>\n",
       "      <th>15</th>\n",
       "    </tr>\n",
       "  </thead>\n",
       "  <tbody>\n",
       "    <tr>\n",
       "      <th>0</th>\n",
       "      <td>8</td>\n",
       "      <td>0</td>\n",
       "      <td>0</td>\n",
       "      <td>0</td>\n",
       "      <td>0</td>\n",
       "      <td>0</td>\n",
       "      <td>0</td>\n",
       "      <td>0</td>\n",
       "      <td>0</td>\n",
       "      <td>0</td>\n",
       "      <td>0</td>\n",
       "      <td>0</td>\n",
       "      <td>0</td>\n",
       "      <td>0</td>\n",
       "      <td>0</td>\n",
       "      <td>0</td>\n",
       "    </tr>\n",
       "    <tr>\n",
       "      <th>1</th>\n",
       "      <td>0</td>\n",
       "      <td>-2</td>\n",
       "      <td>-2</td>\n",
       "      <td>4</td>\n",
       "      <td>0</td>\n",
       "      <td>2</td>\n",
       "      <td>-2</td>\n",
       "      <td>0</td>\n",
       "      <td>0</td>\n",
       "      <td>2</td>\n",
       "      <td>-2</td>\n",
       "      <td>0</td>\n",
       "      <td>4</td>\n",
       "      <td>2</td>\n",
       "      <td>2</td>\n",
       "      <td>0</td>\n",
       "    </tr>\n",
       "    <tr>\n",
       "      <th>2</th>\n",
       "      <td>0</td>\n",
       "      <td>4</td>\n",
       "      <td>0</td>\n",
       "      <td>0</td>\n",
       "      <td>0</td>\n",
       "      <td>4</td>\n",
       "      <td>0</td>\n",
       "      <td>0</td>\n",
       "      <td>-2</td>\n",
       "      <td>2</td>\n",
       "      <td>2</td>\n",
       "      <td>2</td>\n",
       "      <td>2</td>\n",
       "      <td>-2</td>\n",
       "      <td>-2</td>\n",
       "      <td>-2</td>\n",
       "    </tr>\n",
       "    <tr>\n",
       "      <th>3</th>\n",
       "      <td>0</td>\n",
       "      <td>-2</td>\n",
       "      <td>2</td>\n",
       "      <td>-4</td>\n",
       "      <td>0</td>\n",
       "      <td>2</td>\n",
       "      <td>2</td>\n",
       "      <td>0</td>\n",
       "      <td>2</td>\n",
       "      <td>4</td>\n",
       "      <td>0</td>\n",
       "      <td>-2</td>\n",
       "      <td>2</td>\n",
       "      <td>0</td>\n",
       "      <td>0</td>\n",
       "      <td>2</td>\n",
       "    </tr>\n",
       "    <tr>\n",
       "      <th>4</th>\n",
       "      <td>0</td>\n",
       "      <td>2</td>\n",
       "      <td>2</td>\n",
       "      <td>0</td>\n",
       "      <td>0</td>\n",
       "      <td>2</td>\n",
       "      <td>2</td>\n",
       "      <td>0</td>\n",
       "      <td>2</td>\n",
       "      <td>-4</td>\n",
       "      <td>0</td>\n",
       "      <td>-2</td>\n",
       "      <td>2</td>\n",
       "      <td>4</td>\n",
       "      <td>0</td>\n",
       "      <td>-2</td>\n",
       "    </tr>\n",
       "    <tr>\n",
       "      <th>5</th>\n",
       "      <td>0</td>\n",
       "      <td>4</td>\n",
       "      <td>0</td>\n",
       "      <td>0</td>\n",
       "      <td>0</td>\n",
       "      <td>0</td>\n",
       "      <td>0</td>\n",
       "      <td>-4</td>\n",
       "      <td>2</td>\n",
       "      <td>2</td>\n",
       "      <td>-2</td>\n",
       "      <td>2</td>\n",
       "      <td>-2</td>\n",
       "      <td>2</td>\n",
       "      <td>2</td>\n",
       "      <td>2</td>\n",
       "    </tr>\n",
       "    <tr>\n",
       "      <th>6</th>\n",
       "      <td>0</td>\n",
       "      <td>2</td>\n",
       "      <td>-2</td>\n",
       "      <td>0</td>\n",
       "      <td>4</td>\n",
       "      <td>-2</td>\n",
       "      <td>2</td>\n",
       "      <td>4</td>\n",
       "      <td>0</td>\n",
       "      <td>2</td>\n",
       "      <td>-2</td>\n",
       "      <td>0</td>\n",
       "      <td>0</td>\n",
       "      <td>2</td>\n",
       "      <td>-2</td>\n",
       "      <td>0</td>\n",
       "    </tr>\n",
       "    <tr>\n",
       "      <th>7</th>\n",
       "      <td>0</td>\n",
       "      <td>0</td>\n",
       "      <td>0</td>\n",
       "      <td>0</td>\n",
       "      <td>4</td>\n",
       "      <td>0</td>\n",
       "      <td>-4</td>\n",
       "      <td>0</td>\n",
       "      <td>4</td>\n",
       "      <td>0</td>\n",
       "      <td>4</td>\n",
       "      <td>0</td>\n",
       "      <td>0</td>\n",
       "      <td>0</td>\n",
       "      <td>0</td>\n",
       "      <td>0</td>\n",
       "    </tr>\n",
       "    <tr>\n",
       "      <th>8</th>\n",
       "      <td>0</td>\n",
       "      <td>0</td>\n",
       "      <td>-2</td>\n",
       "      <td>-2</td>\n",
       "      <td>-2</td>\n",
       "      <td>2</td>\n",
       "      <td>0</td>\n",
       "      <td>4</td>\n",
       "      <td>0</td>\n",
       "      <td>0</td>\n",
       "      <td>2</td>\n",
       "      <td>2</td>\n",
       "      <td>-2</td>\n",
       "      <td>2</td>\n",
       "      <td>4</td>\n",
       "      <td>0</td>\n",
       "    </tr>\n",
       "    <tr>\n",
       "      <th>9</th>\n",
       "      <td>0</td>\n",
       "      <td>-2</td>\n",
       "      <td>4</td>\n",
       "      <td>2</td>\n",
       "      <td>2</td>\n",
       "      <td>0</td>\n",
       "      <td>2</td>\n",
       "      <td>0</td>\n",
       "      <td>0</td>\n",
       "      <td>2</td>\n",
       "      <td>0</td>\n",
       "      <td>2</td>\n",
       "      <td>-2</td>\n",
       "      <td>0</td>\n",
       "      <td>2</td>\n",
       "      <td>-4</td>\n",
       "    </tr>\n",
       "    <tr>\n",
       "      <th>10</th>\n",
       "      <td>0</td>\n",
       "      <td>0</td>\n",
       "      <td>2</td>\n",
       "      <td>-2</td>\n",
       "      <td>2</td>\n",
       "      <td>-2</td>\n",
       "      <td>0</td>\n",
       "      <td>0</td>\n",
       "      <td>-2</td>\n",
       "      <td>-2</td>\n",
       "      <td>0</td>\n",
       "      <td>4</td>\n",
       "      <td>4</td>\n",
       "      <td>0</td>\n",
       "      <td>2</td>\n",
       "      <td>2</td>\n",
       "    </tr>\n",
       "    <tr>\n",
       "      <th>11</th>\n",
       "      <td>0</td>\n",
       "      <td>2</td>\n",
       "      <td>4</td>\n",
       "      <td>2</td>\n",
       "      <td>-2</td>\n",
       "      <td>0</td>\n",
       "      <td>-2</td>\n",
       "      <td>4</td>\n",
       "      <td>2</td>\n",
       "      <td>0</td>\n",
       "      <td>-2</td>\n",
       "      <td>0</td>\n",
       "      <td>0</td>\n",
       "      <td>-2</td>\n",
       "      <td>0</td>\n",
       "      <td>2</td>\n",
       "    </tr>\n",
       "    <tr>\n",
       "      <th>12</th>\n",
       "      <td>0</td>\n",
       "      <td>-2</td>\n",
       "      <td>0</td>\n",
       "      <td>2</td>\n",
       "      <td>-2</td>\n",
       "      <td>0</td>\n",
       "      <td>2</td>\n",
       "      <td>0</td>\n",
       "      <td>2</td>\n",
       "      <td>0</td>\n",
       "      <td>2</td>\n",
       "      <td>4</td>\n",
       "      <td>0</td>\n",
       "      <td>2</td>\n",
       "      <td>-4</td>\n",
       "      <td>2</td>\n",
       "    </tr>\n",
       "    <tr>\n",
       "      <th>13</th>\n",
       "      <td>0</td>\n",
       "      <td>0</td>\n",
       "      <td>-2</td>\n",
       "      <td>2</td>\n",
       "      <td>2</td>\n",
       "      <td>2</td>\n",
       "      <td>4</td>\n",
       "      <td>0</td>\n",
       "      <td>2</td>\n",
       "      <td>-2</td>\n",
       "      <td>0</td>\n",
       "      <td>0</td>\n",
       "      <td>0</td>\n",
       "      <td>-4</td>\n",
       "      <td>2</td>\n",
       "      <td>2</td>\n",
       "    </tr>\n",
       "    <tr>\n",
       "      <th>14</th>\n",
       "      <td>0</td>\n",
       "      <td>2</td>\n",
       "      <td>0</td>\n",
       "      <td>2</td>\n",
       "      <td>-2</td>\n",
       "      <td>-4</td>\n",
       "      <td>2</td>\n",
       "      <td>0</td>\n",
       "      <td>0</td>\n",
       "      <td>2</td>\n",
       "      <td>4</td>\n",
       "      <td>-2</td>\n",
       "      <td>2</td>\n",
       "      <td>0</td>\n",
       "      <td>2</td>\n",
       "      <td>0</td>\n",
       "    </tr>\n",
       "    <tr>\n",
       "      <th>15</th>\n",
       "      <td>0</td>\n",
       "      <td>0</td>\n",
       "      <td>2</td>\n",
       "      <td>2</td>\n",
       "      <td>2</td>\n",
       "      <td>2</td>\n",
       "      <td>0</td>\n",
       "      <td>0</td>\n",
       "      <td>-4</td>\n",
       "      <td>0</td>\n",
       "      <td>2</td>\n",
       "      <td>-2</td>\n",
       "      <td>-2</td>\n",
       "      <td>2</td>\n",
       "      <td>0</td>\n",
       "      <td>4</td>\n",
       "    </tr>\n",
       "  </tbody>\n",
       "</table>\n",
       "</div>"
      ],
      "text/plain": [
       "    0   1   2   3   4   5   6   7   8   9   10  11  12  13  14  15\n",
       "0    8   0   0   0   0   0   0   0   0   0   0   0   0   0   0   0\n",
       "1    0  -2  -2   4   0   2  -2   0   0   2  -2   0   4   2   2   0\n",
       "2    0   4   0   0   0   4   0   0  -2   2   2   2   2  -2  -2  -2\n",
       "3    0  -2   2  -4   0   2   2   0   2   4   0  -2   2   0   0   2\n",
       "4    0   2   2   0   0   2   2   0   2  -4   0  -2   2   4   0  -2\n",
       "5    0   4   0   0   0   0   0  -4   2   2  -2   2  -2   2   2   2\n",
       "6    0   2  -2   0   4  -2   2   4   0   2  -2   0   0   2  -2   0\n",
       "7    0   0   0   0   4   0  -4   0   4   0   4   0   0   0   0   0\n",
       "8    0   0  -2  -2  -2   2   0   4   0   0   2   2  -2   2   4   0\n",
       "9    0  -2   4   2   2   0   2   0   0   2   0   2  -2   0   2  -4\n",
       "10   0   0   2  -2   2  -2   0   0  -2  -2   0   4   4   0   2   2\n",
       "11   0   2   4   2  -2   0  -2   4   2   0  -2   0   0  -2   0   2\n",
       "12   0  -2   0   2  -2   0   2   0   2   0   2   4   0   2  -4   2\n",
       "13   0   0  -2   2   2   2   4   0   2  -2   0   0   0  -4   2   2\n",
       "14   0   2   0   2  -2  -4   2   0   0   2   4  -2   2   0   2   0\n",
       "15   0   0   2   2   2   2   0   0  -4   0   2  -2  -2   2   0   4"
      ]
     },
     "execution_count": 4,
     "metadata": {},
     "output_type": "execute_result"
    }
   ],
   "source": [
    "visualise_linear_approx_table(linear_approx_table)"
   ]
  },
  {
   "cell_type": "markdown",
   "metadata": {},
   "source": [
    "The rows of the table correspond to the binary mask of the input, whereas the columns correspond to the binary mask of the output. For example, the equation X<sub>2</sub> $\\oplus$ X<sub>3</sub> $\\oplus$ X<sub>4</sub> = Y<sub>2</sub> corresponds to row 7 and column 4, which has a bias of +$\\frac{4}{16}$."
   ]
  },
  {
   "cell_type": "markdown",
   "metadata": {},
   "source": [
    "## 2 Constructing Linear Approximations for the Cryptographic System"
   ]
  },
  {
   "cell_type": "markdown",
   "metadata": {},
   "source": [
    "### 2.1 Subkey representing the 8 most significant bits"
   ]
  },
  {
   "cell_type": "markdown",
   "metadata": {},
   "source": [
    "We will first attempt to derive the linear equations for the target partial subkey that represents the 8 most significant bits of the last round key.\n",
    "\n",
    "We let U<sub>i</sub> and V<sub>i</sub> represent the 16-bit block of bits at the input and output of round i's substitution boxes, respectively. U<sub>i,j</sub> and V<sub>i,j</sub> will represent the j-th bit at the i-th round, where bits are numbered from 1 to 16 from left to right. We also let K<sub>i,j</sub> represent the j-th bit of the subkey at round i that will be used in the XOR operation with U<sub>i,j</sub> to produce V<sub>i,j</sub>.  \n",
    "\n",
    "To represent the substition boxes, S<sub>ij</sub> denotes the j-th substition box for round i, where the boxes are numbered from 1 to 4 from left to right."
   ]
  },
  {
   "cell_type": "markdown",
   "metadata": {},
   "source": [
    "#### We use the following approximations of the S-box:  \n",
    "$\\quad$ S<sub>11</sub>: X<sub>2</sub> $\\oplus$ X<sub>3</sub> $\\oplus$ X<sub>4</sub> = Y<sub>2</sub> \n",
    "\n",
    "$\\quad$ S<sub>24</sub>: X<sub>4</sub> = Y<sub>3</sub> $\\oplus$ Y<sub>4</sub>  \n",
    "\n",
    "$\\quad$ S<sub>31</sub>: X<sub>2</sub> = Y<sub>1</sub> $\\oplus$ Y<sub>4</sub>  \n",
    "\n",
    "$\\quad$ S<sub>34</sub>: X<sub>2</sub> = Y<sub>1</sub> $\\oplus$ Y<sub>4</sub>  "
   ]
  },
  {
   "cell_type": "markdown",
   "metadata": {},
   "source": [
    "#### Equation 1:\n",
    "$\\quad$ V<sub>1,2</sub> = U<sub>1,2</sub> $\\oplus$ U<sub>1,3</sub> $\\oplus$ U<sub>1,4</sub>\n",
    "= (P<sub>2</sub> $\\oplus$ K<sub>1,2</sub>) $\\oplus$ (P<sub>3</sub> $\\oplus$ K<sub>1,3</sub>) $\\oplus$ (P<sub>4</sub> $\\oplus$ K<sub>1,4</sub>)\n",
    "\n",
    "This equation has a probability of $\\frac{12}{16}$ with bias $+\\frac{1}{4}$."
   ]
  },
  {
   "cell_type": "markdown",
   "metadata": {},
   "source": [
    "#### Equation 2:\n",
    "$\\quad$ V<sub>2,15</sub> $\\oplus$ V<sub>2,16</sub>= U<sub>2,16</sub>\n",
    "= K<sub>2,16</sub> $\\oplus$ V<sub>1,2</sub>\n",
    "\n",
    "This equation has a probability of $\\frac{12}{16}$ with bias $+\\frac{1}{4}$."
   ]
  },
  {
   "cell_type": "markdown",
   "metadata": {},
   "source": [
    "#### Equation 3:\n",
    "Move everything to LHS for equation 2.  \n",
    "  \n",
    "$\\quad$ V<sub>2,15</sub> $\\oplus$ V<sub>2,16</sub> $\\oplus$ K<sub>2,16</sub> $\\oplus$ V<sub>1,2</sub> = 0\n",
    "\n",
    "Combining equations 1 and 2.  \n",
    "  \n",
    "$\\quad$ V<sub>2,15</sub> $\\oplus$ V<sub>2,16</sub> $\\oplus$ K<sub>2,16</sub> $\\oplus$ (P<sub>2</sub> $\\oplus$ K<sub>1,2</sub>) $\\oplus$ (P<sub>3</sub> $\\oplus$ K<sub>1,3</sub>) $\\oplus$ (P<sub>4</sub> $\\oplus$ K<sub>1,4</sub>) = 0\n",
    "  \n",
    "Calculating probabilty.  \n",
    "  \n",
    "$\\quad$ $\\frac{1}{2} + 2(\\frac{3}{4}-\\frac{1}{2})(\\frac{3}{4}-\\frac{1}{2}) = \\frac{5}{8}$\n",
    "  \n",
    "This equation has a probability of $\\frac{5}{8}$ with bias $+\\frac{1}{8}$."
   ]
  },
  {
   "cell_type": "markdown",
   "metadata": {},
   "source": [
    "#### Equation 4:\n",
    "$\\quad$ $(a)$ V<sub>3,1</sub> $\\oplus$ V<sub>3,4</sub> = U<sub>3,2</sub> = V<sub>2,16</sub> $\\oplus$ K<sub>3,2</sub>  \n",
    "  \n",
    "$\\quad$ $(b)$ V<sub>3,13</sub> $\\oplus$ V<sub>3,16</sub> = U<sub>3,14</sub> = V<sub>2,15</sub> $\\oplus$ K<sub>3,14</sub>   \n",
    "  \n",
    "Move everything to LHS for equation 4 $(a)$.\n",
    "  \n",
    "$\\quad$ V<sub>3,1</sub> $\\oplus$ V<sub>3,4</sub> $\\oplus$ V<sub>2,16</sub> $\\oplus$ K<sub>3,2</sub> = 0  \n",
    "  \n",
    "Move everything to LHS for equation 4 $(b)$.  \n",
    "\n",
    "$\\quad$ V<sub>3,13</sub> $\\oplus$ V<sub>3,16</sub> $\\oplus$ V<sub>2,15</sub> $\\oplus$ K<sub>3,14</sub> = 0  \n",
    "  \n",
    "Combining the equations.  \n",
    "\n",
    "$\\quad$ V<sub>3,1</sub> $\\oplus$ V<sub>3,4</sub> $\\oplus$ V<sub>2,16</sub> $\\oplus$ K<sub>3,2</sub> $\\oplus$ V<sub>3,13</sub> $\\oplus$ V<sub>3,16</sub> $\\oplus$ V<sub>2,15</sub> $\\oplus$ K<sub>3,14</sub> = 0\n",
    "\n",
    "Calculating probabilty.  \n",
    "\n",
    "$\\quad$ $\\frac{1}{2} + 2(\\frac{1}{4}-\\frac{1}{2})(\\frac{1}{4}-\\frac{1}{2}) = \\frac{5}{8}$  \n",
    "  \n",
    "This equation has a probability of $\\frac{5}{8}$ with bias $+\\frac{1}{8}$."
   ]
  },
  {
   "cell_type": "markdown",
   "metadata": {},
   "source": [
    "#### Equation 5:\n",
    "Combining equations 3 and 4.  \n",
    "\n",
    "$\\quad$ V<sub>2,15</sub> $\\oplus$ V<sub>2,16</sub> $\\oplus$ K<sub>2,16</sub> $\\oplus$ (P<sub>2</sub> $\\oplus$ K<sub>1,2</sub>) $\\oplus$ (P<sub>3</sub> $\\oplus$ K<sub>1,3</sub>) $\\oplus$ (P<sub>4</sub> $\\oplus$ K<sub>1,4</sub>) <br />\n",
    "$\\quad$ $\\quad$ $\\oplus$ V<sub>3,1</sub> $\\oplus$ V<sub>3,4</sub> $\\oplus$ V<sub>2,16</sub> $\\oplus$ K<sub>3,2</sub> $\\oplus$ V<sub>3,13</sub> $\\oplus$ V<sub>3,16</sub> $\\oplus$ V<sub>2,15</sub> $\\oplus$ K<sub>3,14</sub> = 0\n",
    "  \n",
    "Simplifying the equation.\n",
    "\n",
    "$\\quad$ V<sub>3,1</sub> $\\oplus$ V<sub>3,4</sub> $\\oplus$ V<sub>3,13</sub> $\\oplus$ V<sub>3,16</sub> $\\oplus$ P<sub>2</sub> $\\oplus$ P<sub>3</sub> <br />\n",
    "$\\quad$ $\\quad$ $\\oplus$ P<sub>4</sub> $\\oplus$ K<sub>1,2</sub> $\\oplus$ K<sub>1,3</sub> $\\oplus$ K<sub>1,4</sub> $\\oplus$ K<sub>2,16</sub> $\\oplus$  K<sub>3,2</sub> $\\oplus$ K<sub>3,14</sub> = 0\n",
    "  \n",
    "Note that  \n",
    "\n",
    "$\\quad$ $(a)$ U<sub>4,7</sub> = K<sub>4,7</sub> $\\oplus$ V<sub>3,1</sub> $\\Rightarrow$ V<sub>3,1</sub> = U<sub>4,7</sub> $\\oplus$ K<sub>4,7</sub>  \n",
    "\n",
    "$\\quad$ $(b)$ U<sub>4,5</sub> = K<sub>4,5</sub> $\\oplus$ V<sub>3,4</sub> $\\Rightarrow$ V<sub>3,4</sub> = U<sub>4,5</sub> $\\oplus$ K<sub>4,5</sub>  \n",
    "\n",
    "$\\quad$ $(c)$ U<sub>4,6</sub> = K<sub>4,6</sub> $\\oplus$ V<sub>3,13</sub> $\\Rightarrow$  V<sub>3,13</sub> = U<sub>4,6</sub> $\\oplus$ K<sub>4,6</sub>  \n",
    "\n",
    "$\\quad$ $(d)$ U<sub>4,2</sub> = K<sub>4,2</sub> $\\oplus$ V<sub>3,16</sub> $\\Rightarrow$ V<sub>3,16</sub> = U<sub>4,2</sub> $\\oplus$ K<sub>4,2</sub>  \n",
    "  \n",
    "$\\quad$ $\\therefore$ U<sub>4,7</sub> $\\oplus$ K<sub>4,7</sub> $\\oplus$ U<sub>4,5</sub> $\\oplus$ K<sub>4,5</sub> $\\oplus$ U<sub>4,6</sub> $\\oplus$ K<sub>4,6</sub> $\\oplus$ U<sub>4,2</sub> $\\oplus$ K<sub>4,2</sub> $\\oplus$ P<sub>2</sub> <br />\n",
    "$\\quad$ $\\quad$ $\\oplus$ P<sub>3</sub> $\\oplus$ P<sub>4</sub> $\\oplus$ K<sub>1,2</sub> $\\oplus$ K<sub>1,3</sub> $\\oplus$ K<sub>1,4</sub> $\\oplus$ K<sub>2,16</sub> $\\oplus$  K<sub>3,2</sub> $\\oplus$ K<sub>3,14</sub> = 0  \n",
    "  \n",
    "Let $\\sum_{k}$ = K<sub>4,7</sub> $\\oplus$ K<sub>4,5</sub> $\\oplus$ K<sub>4,6</sub> $\\oplus$ K<sub>4,2</sub> $\\oplus$ K<sub>1,2</sub> $\\oplus$ K<sub>1,3</sub> $\\oplus$ K<sub>1,4</sub> $\\oplus$ K<sub>2,16</sub> $\\oplus$  K<sub>3,2</sub> $\\oplus$ K<sub>3,14</sub>  \n",
    "  \n",
    "We get the following equation. \n",
    "\n",
    "$\\quad$ U<sub>4,7</sub> $\\oplus$  U<sub>4,5</sub> $\\oplus$ U<sub>4,6</sub> $\\oplus$  U<sub>4,2</sub> $\\oplus$ P<sub>2</sub> $\\oplus$ P<sub>3</sub> $\\oplus$ P<sub>4</sub> $\\oplus$ $\\sum_{k}$ = 0\n",
    "  \n",
    "Calculating probabilty. \n",
    "\n",
    "$\\quad$ $\\frac{1}{2} + 2^3(\\frac{12}{16}-\\frac{1}{2})(\\frac{12}{16}-\\frac{1}{2})(\\frac{4}{16}-\\frac{1}{2})(\\frac{4}{16}-\\frac{1}{2}) = \\frac{17}{32}$  \n",
    "  \n",
    "Depending on whether  $\\sum_{k}$ is 0 or 1, the probability is $\\frac{17}{32}$ or $\\frac{15}{32}$ (with bias of magnitude $\\frac{1}{32}$)"
   ]
  },
  {
   "cell_type": "markdown",
   "metadata": {},
   "source": [
    "### 2.1.1 Final Equation:\n",
    "\n",
    "$\\quad$ U<sub>4,2</sub> $\\oplus$ U<sub>4,5</sub> $\\oplus$ U<sub>4,6</sub> $\\oplus$ U<sub>4,7</sub> $\\oplus$ P<sub>2</sub> $\\oplus$ P<sub>3</sub> $\\oplus$ P<sub>4</sub> $\\oplus$ $\\sum_{k}$ = 0"
   ]
  },
  {
   "cell_type": "markdown",
   "metadata": {},
   "source": [
    "A visualisation of the derivation of the equation can be found [here](./images/linear%20equation%201%20(msb).png)."
   ]
  },
  {
   "cell_type": "markdown",
   "metadata": {},
   "source": [
    "### 2.1.2 Initialising the Substitution Permutation Network"
   ]
  },
  {
   "cell_type": "code",
   "execution_count": 5,
   "metadata": {},
   "outputs": [],
   "source": [
    "spn = SPN()"
   ]
  },
  {
   "cell_type": "markdown",
   "metadata": {},
   "source": [
    "For the purposes of this demonstration, we will be carrying out a known plaintext attack. In assuming the role of the attacker, we will use a pre-generated list of 10000 plaintexts and corresponding ciphertexts, which can be found in data.py. The code used to generate the plaintexts and ciphertexts can be found at the bottom of data.py."
   ]
  },
  {
   "cell_type": "markdown",
   "metadata": {},
   "source": [
    "### 2.1.3 Mounting the attack through Linear Approximation"
   ]
  },
  {
   "cell_type": "markdown",
   "metadata": {},
   "source": [
    "We will now try to find the target partial subkey bits from the last round key associated with the substition boxes in the last round of the network.  \n",
    "\n",
    "As per the equations derived, the bits at positions 2, 5, 6, and 7 of the input to the last substitution round and the bits at positions 2, 3, and 4 of the plaintext will be used. As the target partial subkey represent the 8 most significant bits (bits at indexes 0-7), the mode will be set to 'first'. As the keyspace for the target partial subkey is of size 2<sup>8</sup>, 256 different subkeys will be tested against the equation. If the equation holds, the count associated with that target partial subkey will be incremented. A larger count will denote that the target partial subkey has a higher probability of matching part of the last round key."
   ]
  },
  {
   "cell_type": "code",
   "execution_count": 6,
   "metadata": {},
   "outputs": [],
   "source": [
    "keyspace = test_partial_key_eqn(u_array=[2,5,6,7], p_array= [2,3,4], mode = \"first\")"
   ]
  },
  {
   "cell_type": "markdown",
   "metadata": {},
   "source": [
    "### 2.1.4 Calculating the bias associated with each subkey"
   ]
  },
  {
   "cell_type": "markdown",
   "metadata": {},
   "source": [
    "As there are 10000 plaintext-ciphertext pairs, the deviation bias for each subkey is given as follows:\n",
    "\n",
    "$\\quad$ $|\\ bias\\ | = |\\ count - 5000\\ |\\ /\\ 10000$"
   ]
  },
  {
   "cell_type": "markdown",
   "metadata": {},
   "source": [
    "We take the top 10% of the keyspace based on their bias value."
   ]
  },
  {
   "cell_type": "code",
   "execution_count": 8,
   "metadata": {},
   "outputs": [
    {
     "data": {
      "text/html": [
       "<style type=\"text/css\">\n",
       "</style>\n",
       "<table id=\"T_b799e_\">\n",
       "  <thead>\n",
       "    <tr>\n",
       "      <th class=\"col_heading level0 col0\" >subkey</th>\n",
       "      <th class=\"col_heading level0 col1\" >bias</th>\n",
       "    </tr>\n",
       "  </thead>\n",
       "  <tbody>\n",
       "    <tr>\n",
       "      <td id=\"T_b799e_row0_col0\" class=\"data row0 col0\" >164</td>\n",
       "      <td id=\"T_b799e_row0_col1\" class=\"data row0 col1\" >0.033000</td>\n",
       "    </tr>\n",
       "    <tr>\n",
       "      <td id=\"T_b799e_row1_col0\" class=\"data row1 col0\" >173</td>\n",
       "      <td id=\"T_b799e_row1_col1\" class=\"data row1 col1\" >0.028000</td>\n",
       "    </tr>\n",
       "    <tr>\n",
       "      <td id=\"T_b799e_row2_col0\" class=\"data row2 col0\" >52</td>\n",
       "      <td id=\"T_b799e_row2_col1\" class=\"data row2 col1\" >0.026200</td>\n",
       "    </tr>\n",
       "    <tr>\n",
       "      <td id=\"T_b799e_row3_col0\" class=\"data row3 col0\" >84</td>\n",
       "      <td id=\"T_b799e_row3_col1\" class=\"data row3 col1\" >0.026100</td>\n",
       "    </tr>\n",
       "    <tr>\n",
       "      <td id=\"T_b799e_row4_col0\" class=\"data row4 col0\" >162</td>\n",
       "      <td id=\"T_b799e_row4_col1\" class=\"data row4 col1\" >0.025600</td>\n",
       "    </tr>\n",
       "    <tr>\n",
       "      <td id=\"T_b799e_row5_col0\" class=\"data row5 col0\" >244</td>\n",
       "      <td id=\"T_b799e_row5_col1\" class=\"data row5 col1\" >0.025400</td>\n",
       "    </tr>\n",
       "    <tr>\n",
       "      <td id=\"T_b799e_row6_col0\" class=\"data row6 col0\" >100</td>\n",
       "      <td id=\"T_b799e_row6_col1\" class=\"data row6 col1\" >0.025000</td>\n",
       "    </tr>\n",
       "    <tr>\n",
       "      <td id=\"T_b799e_row7_col0\" class=\"data row7 col0\" >196</td>\n",
       "      <td id=\"T_b799e_row7_col1\" class=\"data row7 col1\" >0.024700</td>\n",
       "    </tr>\n",
       "    <tr>\n",
       "      <td id=\"T_b799e_row8_col0\" class=\"data row8 col0\" >24</td>\n",
       "      <td id=\"T_b799e_row8_col1\" class=\"data row8 col1\" >0.024400</td>\n",
       "    </tr>\n",
       "    <tr>\n",
       "      <td id=\"T_b799e_row9_col0\" class=\"data row9 col0\" >1</td>\n",
       "      <td id=\"T_b799e_row9_col1\" class=\"data row9 col1\" >0.024200</td>\n",
       "    </tr>\n",
       "    <tr>\n",
       "      <td id=\"T_b799e_row10_col0\" class=\"data row10 col0\" >49</td>\n",
       "      <td id=\"T_b799e_row10_col1\" class=\"data row10 col1\" >0.024000</td>\n",
       "    </tr>\n",
       "    <tr>\n",
       "      <td id=\"T_b799e_row11_col0\" class=\"data row11 col0\" >61</td>\n",
       "      <td id=\"T_b799e_row11_col1\" class=\"data row11 col1\" >0.022600</td>\n",
       "    </tr>\n",
       "    <tr>\n",
       "      <td id=\"T_b799e_row12_col0\" class=\"data row12 col0\" >160</td>\n",
       "      <td id=\"T_b799e_row12_col1\" class=\"data row12 col1\" >0.021700</td>\n",
       "    </tr>\n",
       "    <tr>\n",
       "      <td id=\"T_b799e_row13_col0\" class=\"data row13 col0\" >40</td>\n",
       "      <td id=\"T_b799e_row13_col1\" class=\"data row13 col1\" >0.021400</td>\n",
       "    </tr>\n",
       "    <tr>\n",
       "      <td id=\"T_b799e_row14_col0\" class=\"data row14 col0\" >94</td>\n",
       "      <td id=\"T_b799e_row14_col1\" class=\"data row14 col1\" >0.021300</td>\n",
       "    </tr>\n",
       "    <tr>\n",
       "      <td id=\"T_b799e_row15_col0\" class=\"data row15 col0\" >56</td>\n",
       "      <td id=\"T_b799e_row15_col1\" class=\"data row15 col1\" >0.020400</td>\n",
       "    </tr>\n",
       "    <tr>\n",
       "      <td id=\"T_b799e_row16_col0\" class=\"data row16 col0\" >17</td>\n",
       "      <td id=\"T_b799e_row16_col1\" class=\"data row16 col1\" >0.019800</td>\n",
       "    </tr>\n",
       "    <tr>\n",
       "      <td id=\"T_b799e_row17_col0\" class=\"data row17 col0\" >23</td>\n",
       "      <td id=\"T_b799e_row17_col1\" class=\"data row17 col1\" >0.019400</td>\n",
       "    </tr>\n",
       "    <tr>\n",
       "      <td id=\"T_b799e_row18_col0\" class=\"data row18 col0\" >111</td>\n",
       "      <td id=\"T_b799e_row18_col1\" class=\"data row18 col1\" >0.018600</td>\n",
       "    </tr>\n",
       "    <tr>\n",
       "      <td id=\"T_b799e_row19_col0\" class=\"data row19 col0\" >33</td>\n",
       "      <td id=\"T_b799e_row19_col1\" class=\"data row19 col1\" >0.018200</td>\n",
       "    </tr>\n",
       "    <tr>\n",
       "      <td id=\"T_b799e_row20_col0\" class=\"data row20 col0\" >116</td>\n",
       "      <td id=\"T_b799e_row20_col1\" class=\"data row20 col1\" >0.017700</td>\n",
       "    </tr>\n",
       "    <tr>\n",
       "      <td id=\"T_b799e_row21_col0\" class=\"data row21 col0\" >212</td>\n",
       "      <td id=\"T_b799e_row21_col1\" class=\"data row21 col1\" >0.017400</td>\n",
       "    </tr>\n",
       "    <tr>\n",
       "      <td id=\"T_b799e_row22_col0\" class=\"data row22 col0\" >199</td>\n",
       "      <td id=\"T_b799e_row22_col1\" class=\"data row22 col1\" >0.017300</td>\n",
       "    </tr>\n",
       "    <tr>\n",
       "      <td id=\"T_b799e_row23_col0\" class=\"data row23 col0\" >4</td>\n",
       "      <td id=\"T_b799e_row23_col1\" class=\"data row23 col1\" >0.017200</td>\n",
       "    </tr>\n",
       "    <tr>\n",
       "      <td id=\"T_b799e_row24_col0\" class=\"data row24 col0\" >88</td>\n",
       "      <td id=\"T_b799e_row24_col1\" class=\"data row24 col1\" >0.017100</td>\n",
       "    </tr>\n",
       "  </tbody>\n",
       "</table>\n"
      ],
      "text/plain": [
       "<pandas.io.formats.style.Styler at 0x1c23d92acd0>"
      ]
     },
     "execution_count": 8,
     "metadata": {},
     "output_type": "execute_result"
    }
   ],
   "source": [
    "linear_attack_bias_df = calculate_bias(keyspace, 25)\n",
    "visualise_top_25_subkeys(linear_attack_bias_df)"
   ]
  },
  {
   "cell_type": "markdown",
   "metadata": {},
   "source": [
    "It can be noted that the largest bias has a value of 0.033, which is close to the theoretical value of $\\frac{1}{32}$, or 0.03125.  \n",
    "\n",
    "We save the top 10% subkeys in an array."
   ]
  },
  {
   "cell_type": "code",
   "execution_count": 9,
   "metadata": {},
   "outputs": [
    {
     "name": "stdout",
     "output_type": "stream",
     "text": [
      "[164, 173, 52, 84, 162, 244, 100, 196, 24, 1, 49, 61, 160, 40, 94, 56, 17, 23, 111, 33, 116, 212, 199, 4, 88]\n"
     ]
    }
   ],
   "source": [
    "arr = linear_attack_bias_df[\"subkey\"].to_numpy()\n",
    "first_8bit_array = arr.tolist()\n",
    "print(first_8bit_array)"
   ]
  },
  {
   "cell_type": "markdown",
   "metadata": {},
   "source": [
    "### 2.2 Subkey representing the 8 least significant bits"
   ]
  },
  {
   "cell_type": "markdown",
   "metadata": {},
   "source": [
    "We repeat the same steps as above for another set of target partial subkeys that represent the 8 least significant bits of the last round key."
   ]
  },
  {
   "cell_type": "markdown",
   "metadata": {},
   "source": [
    "#### We use the following approximations of the S-box:  \n",
    "$\\quad$ S<sub>14</sub>: X<sub>1</sub> $\\oplus$ X<sub>2</sub> $\\oplus$ X<sub>3</sub> $\\oplus$ X<sub>4</sub> = Y<sub>1</sub>  \n",
    "\n",
    "$\\quad$ S<sub>22</sub>: X<sub>2</sub> = Y<sub>1</sub> $\\oplus$ Y<sub>4</sub>  \n",
    "\n",
    "$\\quad$ S<sub>33</sub>: X<sub>2</sub> $\\oplus$ X<sub>4</sub> = Y<sub>4</sub>"
   ]
  },
  {
   "cell_type": "markdown",
   "metadata": {},
   "source": [
    "### 2.2.1 Final Equation:\n",
    "\n",
    "$\\quad$ U<sub>4,11</sub> $\\oplus$ P<sub>13</sub> $\\oplus$ P<sub>14</sub> $\\oplus$ P<sub>15</sub> $\\oplus$ P<sub>16</sub> $\\oplus$ $\\sum_{k}$ = 0"
   ]
  },
  {
   "cell_type": "markdown",
   "metadata": {},
   "source": [
    "A visualisation of the derivation of the equation can be found [here](./images/linear%20equation%202%20(lsb).png)."
   ]
  },
  {
   "cell_type": "markdown",
   "metadata": {},
   "source": [
    "### 2.2.2 Mounting the attack through Linear Approximation"
   ]
  },
  {
   "cell_type": "code",
   "execution_count": 10,
   "metadata": {},
   "outputs": [],
   "source": [
    "keyspace2 = test_partial_key_eqn(u_array=[11], p_array= [13,14,15,16], mode = \"last\")"
   ]
  },
  {
   "cell_type": "markdown",
   "metadata": {},
   "source": [
    "### 2.2.3 Calculating the bias associated with each subkey"
   ]
  },
  {
   "cell_type": "code",
   "execution_count": 11,
   "metadata": {},
   "outputs": [
    {
     "data": {
      "text/html": [
       "<style type=\"text/css\">\n",
       "</style>\n",
       "<table id=\"T_5e427_\">\n",
       "  <thead>\n",
       "    <tr>\n",
       "      <th class=\"col_heading level0 col0\" >subkey</th>\n",
       "      <th class=\"col_heading level0 col1\" >bias</th>\n",
       "    </tr>\n",
       "  </thead>\n",
       "  <tbody>\n",
       "    <tr>\n",
       "      <td id=\"T_5e427_row0_col0\" class=\"data row0 col0\" >89</td>\n",
       "      <td id=\"T_5e427_row0_col1\" class=\"data row0 col1\" >0.030800</td>\n",
       "    </tr>\n",
       "    <tr>\n",
       "      <td id=\"T_5e427_row1_col0\" class=\"data row1 col0\" >95</td>\n",
       "      <td id=\"T_5e427_row1_col1\" class=\"data row1 col1\" >0.030800</td>\n",
       "    </tr>\n",
       "    <tr>\n",
       "      <td id=\"T_5e427_row2_col0\" class=\"data row2 col0\" >80</td>\n",
       "      <td id=\"T_5e427_row2_col1\" class=\"data row2 col1\" >0.030800</td>\n",
       "    </tr>\n",
       "    <tr>\n",
       "      <td id=\"T_5e427_row3_col0\" class=\"data row3 col0\" >81</td>\n",
       "      <td id=\"T_5e427_row3_col1\" class=\"data row3 col1\" >0.030800</td>\n",
       "    </tr>\n",
       "    <tr>\n",
       "      <td id=\"T_5e427_row4_col0\" class=\"data row4 col0\" >82</td>\n",
       "      <td id=\"T_5e427_row4_col1\" class=\"data row4 col1\" >0.030800</td>\n",
       "    </tr>\n",
       "    <tr>\n",
       "      <td id=\"T_5e427_row5_col0\" class=\"data row5 col0\" >83</td>\n",
       "      <td id=\"T_5e427_row5_col1\" class=\"data row5 col1\" >0.030800</td>\n",
       "    </tr>\n",
       "    <tr>\n",
       "      <td id=\"T_5e427_row6_col0\" class=\"data row6 col0\" >84</td>\n",
       "      <td id=\"T_5e427_row6_col1\" class=\"data row6 col1\" >0.030800</td>\n",
       "    </tr>\n",
       "    <tr>\n",
       "      <td id=\"T_5e427_row7_col0\" class=\"data row7 col0\" >85</td>\n",
       "      <td id=\"T_5e427_row7_col1\" class=\"data row7 col1\" >0.030800</td>\n",
       "    </tr>\n",
       "    <tr>\n",
       "      <td id=\"T_5e427_row8_col0\" class=\"data row8 col0\" >86</td>\n",
       "      <td id=\"T_5e427_row8_col1\" class=\"data row8 col1\" >0.030800</td>\n",
       "    </tr>\n",
       "    <tr>\n",
       "      <td id=\"T_5e427_row9_col0\" class=\"data row9 col0\" >87</td>\n",
       "      <td id=\"T_5e427_row9_col1\" class=\"data row9 col1\" >0.030800</td>\n",
       "    </tr>\n",
       "    <tr>\n",
       "      <td id=\"T_5e427_row10_col0\" class=\"data row10 col0\" >88</td>\n",
       "      <td id=\"T_5e427_row10_col1\" class=\"data row10 col1\" >0.030800</td>\n",
       "    </tr>\n",
       "    <tr>\n",
       "      <td id=\"T_5e427_row11_col0\" class=\"data row11 col0\" >90</td>\n",
       "      <td id=\"T_5e427_row11_col1\" class=\"data row11 col1\" >0.030800</td>\n",
       "    </tr>\n",
       "    <tr>\n",
       "      <td id=\"T_5e427_row12_col0\" class=\"data row12 col0\" >91</td>\n",
       "      <td id=\"T_5e427_row12_col1\" class=\"data row12 col1\" >0.030800</td>\n",
       "    </tr>\n",
       "    <tr>\n",
       "      <td id=\"T_5e427_row13_col0\" class=\"data row13 col0\" >92</td>\n",
       "      <td id=\"T_5e427_row13_col1\" class=\"data row13 col1\" >0.030800</td>\n",
       "    </tr>\n",
       "    <tr>\n",
       "      <td id=\"T_5e427_row14_col0\" class=\"data row14 col0\" >93</td>\n",
       "      <td id=\"T_5e427_row14_col1\" class=\"data row14 col1\" >0.030800</td>\n",
       "    </tr>\n",
       "    <tr>\n",
       "      <td id=\"T_5e427_row15_col0\" class=\"data row15 col0\" >94</td>\n",
       "      <td id=\"T_5e427_row15_col1\" class=\"data row15 col1\" >0.030800</td>\n",
       "    </tr>\n",
       "    <tr>\n",
       "      <td id=\"T_5e427_row16_col0\" class=\"data row16 col0\" >128</td>\n",
       "      <td id=\"T_5e427_row16_col1\" class=\"data row16 col1\" >0.020600</td>\n",
       "    </tr>\n",
       "    <tr>\n",
       "      <td id=\"T_5e427_row17_col0\" class=\"data row17 col0\" >143</td>\n",
       "      <td id=\"T_5e427_row17_col1\" class=\"data row17 col1\" >0.020600</td>\n",
       "    </tr>\n",
       "    <tr>\n",
       "      <td id=\"T_5e427_row18_col0\" class=\"data row18 col0\" >136</td>\n",
       "      <td id=\"T_5e427_row18_col1\" class=\"data row18 col1\" >0.020600</td>\n",
       "    </tr>\n",
       "    <tr>\n",
       "      <td id=\"T_5e427_row19_col0\" class=\"data row19 col0\" >129</td>\n",
       "      <td id=\"T_5e427_row19_col1\" class=\"data row19 col1\" >0.020600</td>\n",
       "    </tr>\n",
       "    <tr>\n",
       "      <td id=\"T_5e427_row20_col0\" class=\"data row20 col0\" >142</td>\n",
       "      <td id=\"T_5e427_row20_col1\" class=\"data row20 col1\" >0.020600</td>\n",
       "    </tr>\n",
       "    <tr>\n",
       "      <td id=\"T_5e427_row21_col0\" class=\"data row21 col0\" >141</td>\n",
       "      <td id=\"T_5e427_row21_col1\" class=\"data row21 col1\" >0.020600</td>\n",
       "    </tr>\n",
       "    <tr>\n",
       "      <td id=\"T_5e427_row22_col0\" class=\"data row22 col0\" >140</td>\n",
       "      <td id=\"T_5e427_row22_col1\" class=\"data row22 col1\" >0.020600</td>\n",
       "    </tr>\n",
       "    <tr>\n",
       "      <td id=\"T_5e427_row23_col0\" class=\"data row23 col0\" >139</td>\n",
       "      <td id=\"T_5e427_row23_col1\" class=\"data row23 col1\" >0.020600</td>\n",
       "    </tr>\n",
       "    <tr>\n",
       "      <td id=\"T_5e427_row24_col0\" class=\"data row24 col0\" >137</td>\n",
       "      <td id=\"T_5e427_row24_col1\" class=\"data row24 col1\" >0.020600</td>\n",
       "    </tr>\n",
       "  </tbody>\n",
       "</table>\n"
      ],
      "text/plain": [
       "<pandas.io.formats.style.Styler at 0x1c24eec91c0>"
      ]
     },
     "execution_count": 11,
     "metadata": {},
     "output_type": "execute_result"
    }
   ],
   "source": [
    "linear_attack_bias_df = calculate_bias(keyspace2, 25)\n",
    "visualise_top_25_subkeys(linear_attack_bias_df)"
   ]
  },
  {
   "cell_type": "markdown",
   "metadata": {},
   "source": [
    "We save the top 10% subkeys in an array."
   ]
  },
  {
   "cell_type": "code",
   "execution_count": 12,
   "metadata": {},
   "outputs": [
    {
     "name": "stdout",
     "output_type": "stream",
     "text": [
      "[89, 95, 80, 81, 82, 83, 84, 85, 86, 87, 88, 90, 91, 92, 93, 94, 128, 143, 136, 129, 142, 141, 140, 139, 137]\n"
     ]
    }
   ],
   "source": [
    "arr = linear_attack_bias_df[\"subkey\"].to_numpy()\n",
    "last_8bit_array = arr.tolist()\n",
    "print(last_8bit_array)"
   ]
  },
  {
   "cell_type": "markdown",
   "metadata": {},
   "source": [
    "## 3 Combining the subkeys"
   ]
  },
  {
   "cell_type": "markdown",
   "metadata": {},
   "source": [
    "We will now combine the subkeys that represent the 8 most significant bits and the 8 least significant bits to form 16 bit key. Each 16 bit key formed will be used to encrypt the plaintext, which will then be checked against the original plaintext. If they match, the key is said to be successfully obtained."
   ]
  },
  {
   "cell_type": "code",
   "execution_count": 13,
   "metadata": {},
   "outputs": [
    {
     "name": "stdout",
     "output_type": "stream",
     "text": [
      "Key Found: 42069\n"
     ]
    },
    {
     "data": {
      "text/plain": [
       "42069"
      ]
     },
     "execution_count": 13,
     "metadata": {},
     "output_type": "execute_result"
    }
   ],
   "source": [
    "test_keys = generate_test_keys(first_8bit_array, last_8bit_array)\n",
    "test_encryption(known_plaintext[:100], known_ciphertext[:100], test_keys)"
   ]
  },
  {
   "cell_type": "markdown",
   "metadata": {},
   "source": [
    "Since our SPN uses the master key for all round keys, the above test can be carried out to verify that the key has been successfully obtained.  \n",
    "\n",
    "The found key (42069) is the key that was used for encrypting all of the known plaintexts, thus impling that the attack was successful."
   ]
  },
  {
   "cell_type": "markdown",
   "metadata": {},
   "source": [
    "## 4 Limitations of the Project and Possible Extensions"
   ]
  },
  {
   "cell_type": "markdown",
   "metadata": {},
   "source": [
    "### 4.1 Different round keys"
   ]
  },
  {
   "cell_type": "markdown",
   "metadata": {},
   "source": [
    "The current implementation of the SPN uses the same keys for each round, which is the original key input by the user. As such, it is currently simple to verify the correctness of the attack and the derived key. If different round keys are used, the attacker will have to work the entire way up the SPN before doing the verification, deriving the different round keys for each round. The correctness is harder to verify in this scenario as the correctness of the round key for round i is based on the correctness of the round key for round i+1.  \n",
    "\n",
    "Instead of having the identical round keys, different round keys could be generated through key schedules such as the DES algorithm."
   ]
  },
  {
   "cell_type": "markdown",
   "metadata": {},
   "source": [
    "### 4.2 Restricted target partial subkeys"
   ]
  },
  {
   "cell_type": "markdown",
   "metadata": {},
   "source": [
    "The current implementation limits the subkeys to either the first 8 bits or the last 8 bits. As a result, the derived linear equations for use in the linear approximation must correspond to either the first 8 bits or the last 8 bits. This limits the number of equations that can be derived.  \n",
    "\n",
    "The project could be improved by increasing the flexibility of possible subkey configurations, such as the bits from positions 5-12, or even from positions 1-4 and 13-16, or even just 4 bits for each target partial subkey."
   ]
  },
  {
   "cell_type": "markdown",
   "metadata": {},
   "source": [
    "### 4.3 Length of plaintext"
   ]
  },
  {
   "cell_type": "markdown",
   "metadata": {},
   "source": [
    "The current implementation is limited to 16 bit inputs. This limits the depth of our analysis.  \n",
    "\n",
    "To allow longer plaintexts, we can consider sufficiently strongs modes of encryption such as CTR and CBC."
   ]
  },
  {
   "cell_type": "markdown",
   "metadata": {},
   "source": [
    "### 4.4 Repeated use of Block Ciphers"
   ]
  },
  {
   "cell_type": "markdown",
   "metadata": {},
   "source": [
    "The current implementation uses the same substitution boxes and permutation boxes for each round. As a result, there is less randomness in the encryption process.  \n",
    "\n",
    "As an improvement, different substition boxes could be used. This strengthens the encryption as the linear cryptanalysis will be more time-consuming as each substition box requires its own linear approximation table. This will result in more time required to derive the linear equations for the attack."
   ]
  },
  {
   "cell_type": "markdown",
   "metadata": {},
   "source": []
  }
 ],
 "metadata": {
  "interpreter": {
   "hash": "ed982b9b6081d1d9e59ed82f711d227adf8310dd235d41e3a5d30a82931f91e3"
  },
  "kernelspec": {
   "display_name": "Python 3 (ipykernel)",
   "language": "python",
   "name": "python3"
  },
  "language_info": {
   "codemirror_mode": {
    "name": "ipython",
    "version": 3
   },
   "file_extension": ".py",
   "mimetype": "text/x-python",
   "name": "python",
   "nbconvert_exporter": "python",
   "pygments_lexer": "ipython3",
   "version": "3.9.1"
  }
 },
 "nbformat": 4,
 "nbformat_minor": 2
}
