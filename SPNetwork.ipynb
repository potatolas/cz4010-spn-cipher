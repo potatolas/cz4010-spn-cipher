{
 "cells": [
  {
   "cell_type": "markdown",
   "metadata": {},
   "source": [
    "# Substitution and Permutation Network"
   ]
  },
  {
   "cell_type": "markdown",
   "metadata": {},
   "source": [
    "## Design Choices\n",
    "\n",
    "The following are some design choices for the implemented SPNetwork:\n",
    "1. There are 4 layers to this SPN.\n",
    "2. For every layer, identical Substitution boxes are being used.\n",
    "3. For every layer, idential Permutation box is being used.\n",
    "4. This SPN takes in 16-bit input and produces 16-bit output\n",
    "5. Refer to ???.pdf for a detailed diagram of the SPN"
   ]
  },
  {
   "cell_type": "markdown",
   "metadata": {},
   "source": [
    "#### The following will demonstrate the implementation of our SPN Network."
   ]
  },
  {
   "cell_type": "markdown",
   "metadata": {},
   "source": [
    "## 1 Import necessary files\n",
    "\n",
    "Implementation of Substitution Boxes, Permutation Boxes and the overall SPNetwork can be found in class.py.  \n",
    "Other necessary functions will be found in utils.py."
   ]
  },
  {
   "cell_type": "code",
   "execution_count": 1,
   "metadata": {},
   "outputs": [],
   "source": [
    "from classes import *\n",
    "from utils import *"
   ]
  },
  {
   "cell_type": "markdown",
   "metadata": {},
   "source": [
    "## 2 Encryption"
   ]
  },
  {
   "cell_type": "markdown",
   "metadata": {},
   "source": [
    "### 2.1 Create a SPN Object\n",
    "\n",
    "An SPN object 'spn' will be created for the encryption."
   ]
  },
  {
   "cell_type": "code",
   "execution_count": 2,
   "metadata": {},
   "outputs": [],
   "source": [
    "spn = SPN()"
   ]
  },
  {
   "cell_type": "markdown",
   "metadata": {},
   "source": [
    "### 2.2 Initialise Key\n",
    "For this demonstration, we will be using the master key of 42069 which is 1010 0100 0101 0101 in binary."
   ]
  },
  {
   "cell_type": "code",
   "execution_count": 20,
   "metadata": {},
   "outputs": [
    {
     "name": "stdout",
     "output_type": "stream",
     "text": [
      "Key:                  42069\n",
      "Key(binary):          1010010001010101\n"
     ]
    }
   ],
   "source": [
    "key = 42069\n",
    "print(\"Key:                 \", key)\n",
    "print(\"Key(binary):         \", format(key, f'0{16}b'))"
   ]
  },
  {
   "cell_type": "markdown",
   "metadata": {},
   "source": [
    "### 2.3 Encrypt plaintext\n",
    "\n",
    "The plaintext that is encrypted will be 2911 which is 0000 1011 0101 1111 in binary.  \n",
    "The encryption method will take in 2 arguments - plaintext and key."
   ]
  },
  {
   "cell_type": "code",
   "execution_count": 14,
   "metadata": {},
   "outputs": [
    {
     "name": "stdout",
     "output_type": "stream",
     "text": [
      "Plaintext:            2911\n",
      "Plaintext(binary):    0000101101011111\n"
     ]
    }
   ],
   "source": [
    "plaintext = 2911\n",
    "print(\"Plaintext:           \", plaintext)\n",
    "print(\"Plaintext(binary):   \", format(plaintext, f'0{16}b'))\n",
    "\n",
    "ciphertext = spn.encrypt(plaintext, key)"
   ]
  },
  {
   "cell_type": "markdown",
   "metadata": {},
   "source": [
    "The resulting ciphertext will be 11572 which is 0010 1101 0011 0100 in binary can be shown below."
   ]
  },
  {
   "cell_type": "code",
   "execution_count": 16,
   "metadata": {},
   "outputs": [
    {
     "name": "stdout",
     "output_type": "stream",
     "text": [
      "Ciphertext:            11572\n",
      "Ciphertext(binary):    0010110100110100\n"
     ]
    }
   ],
   "source": [
    "print(\"Ciphertext:           \", ciphertext)\n",
    "print(\"Ciphertext(binary):   \", format(ciphertext, f'0{16}b'))"
   ]
  },
  {
   "cell_type": "markdown",
   "metadata": {},
   "source": [
    "## 3 Decryption"
   ]
  },
  {
   "cell_type": "markdown",
   "metadata": {},
   "source": [
    "### 3.1 Decrypt ciphertext\n",
    "\n",
    "The SPN object 'spn' and the key (42069) will be reused for the decryption."
   ]
  },
  {
   "cell_type": "code",
   "execution_count": 23,
   "metadata": {},
   "outputs": [
    {
     "name": "stdout",
     "output_type": "stream",
     "text": [
      "Decryption Result:            2911\n",
      "Decryption Result(binary):    0000101101011111\n"
     ]
    }
   ],
   "source": [
    "decryption_result = spn.decrypt(ciphertext, key)\n",
    "\n",
    "print(\"Decryption Result:           \", decryption_result)\n",
    "print(\"Decryption Result(binary):   \", format(decryption_result, f'0{16}b'))"
   ]
  },
  {
   "cell_type": "markdown",
   "metadata": {},
   "source": [
    "As we can see from above, the result from the decryption is the initial plaintext of 2911."
   ]
  }
 ],
 "metadata": {
  "kernelspec": {
   "display_name": "Python 3",
   "language": "python",
   "name": "python3"
  },
  "language_info": {
   "codemirror_mode": {
    "name": "ipython",
    "version": 3
   },
   "file_extension": ".py",
   "mimetype": "text/x-python",
   "name": "python",
   "nbconvert_exporter": "python",
   "pygments_lexer": "ipython3",
   "version": "3.9.1"
  }
 },
 "nbformat": 4,
 "nbformat_minor": 4
}
