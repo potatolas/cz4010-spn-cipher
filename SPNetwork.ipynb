{
 "cells": [
  {
   "cell_type": "markdown",
   "metadata": {},
   "source": [
    "# TODO:\n",
    "1. verify encrypt\n",
    "2. unsub\n",
    "3. rebond\n",
    "4. decrypt\n",
    "5. lunch\n",
    "6. go home"
   ]
  },
  {
   "cell_type": "code",
   "execution_count": 24,
   "metadata": {},
   "outputs": [
    {
     "data": {
      "text/plain": [
       "39639"
      ]
     },
     "execution_count": 24,
     "metadata": {},
     "output_type": "execute_result"
    }
   ],
   "source": [
    "0b1001101011010111"
   ]
  },
  {
   "cell_type": "code",
   "execution_count": 21,
   "metadata": {},
   "outputs": [
    {
     "data": {
      "text/plain": [
       "int"
      ]
     },
     "execution_count": 21,
     "metadata": {},
     "output_type": "execute_result"
    }
   ],
   "source": [
    "type(0b1)"
   ]
  },
  {
   "cell_type": "code",
   "execution_count": 22,
   "metadata": {},
   "outputs": [
    {
     "data": {
      "text/plain": [
       "1"
      ]
     },
     "execution_count": 22,
     "metadata": {},
     "output_type": "execute_result"
    }
   ],
   "source": [
    "0b1"
   ]
  },
  {
   "cell_type": "code",
   "execution_count": 23,
   "metadata": {},
   "outputs": [
    {
     "data": {
      "text/plain": [
       "'1111'"
      ]
     },
     "execution_count": 23,
     "metadata": {},
     "output_type": "execute_result"
    }
   ],
   "source": [
    "these = 15\n",
    "format(these, '04b')"
   ]
  },
  {
   "cell_type": "code",
   "execution_count": 8,
   "metadata": {},
   "outputs": [
    {
     "data": {
      "text/plain": [
       "str"
      ]
     },
     "execution_count": 8,
     "metadata": {},
     "output_type": "execute_result"
    }
   ],
   "source": [
    "this = 0b1\n",
    "type(bin(this))"
   ]
  },
  {
   "cell_type": "code",
   "execution_count": 20,
   "metadata": {},
   "outputs": [
    {
     "name": "stdout",
     "output_type": "stream",
     "text": [
      "<class 'dict_values'>\n"
     ]
    },
    {
     "ename": "AttributeError",
     "evalue": "type object 'dict' has no attribute 'dict_values'",
     "output_type": "error",
     "traceback": [
      "\u001b[1;31m---------------------------------------------------------------------------\u001b[0m",
      "\u001b[1;31mAttributeError\u001b[0m                            Traceback (most recent call last)",
      "\u001b[1;32m<ipython-input-20-f89190967767>\u001b[0m in \u001b[0;36m<module>\u001b[1;34m\u001b[0m\n\u001b[0;32m      1\u001b[0m \u001b[0mthat\u001b[0m \u001b[1;33m=\u001b[0m \u001b[1;33m{\u001b[0m\u001b[1;36m1\u001b[0m\u001b[1;33m:\u001b[0m\u001b[1;36m2\u001b[0m\u001b[1;33m}\u001b[0m\u001b[1;33m\u001b[0m\u001b[1;33m\u001b[0m\u001b[0m\n\u001b[0;32m      2\u001b[0m \u001b[0mprint\u001b[0m\u001b[1;33m(\u001b[0m\u001b[0mtype\u001b[0m\u001b[1;33m(\u001b[0m\u001b[0mthat\u001b[0m\u001b[1;33m.\u001b[0m\u001b[0mvalues\u001b[0m\u001b[1;33m(\u001b[0m\u001b[1;33m)\u001b[0m\u001b[1;33m)\u001b[0m\u001b[1;33m)\u001b[0m\u001b[1;33m\u001b[0m\u001b[1;33m\u001b[0m\u001b[0m\n\u001b[1;32m----> 3\u001b[1;33m \u001b[1;32mif\u001b[0m \u001b[0misinstance\u001b[0m\u001b[1;33m(\u001b[0m\u001b[0mthat\u001b[0m\u001b[1;33m.\u001b[0m\u001b[0mvalues\u001b[0m\u001b[1;33m(\u001b[0m\u001b[1;33m)\u001b[0m\u001b[1;33m,\u001b[0m \u001b[0mdict\u001b[0m\u001b[1;33m.\u001b[0m\u001b[0mdict_values\u001b[0m\u001b[1;33m)\u001b[0m\u001b[1;33m:\u001b[0m\u001b[1;33m\u001b[0m\u001b[1;33m\u001b[0m\u001b[0m\n\u001b[0m\u001b[0;32m      4\u001b[0m     \u001b[0mprint\u001b[0m\u001b[1;33m(\u001b[0m\u001b[1;34m\"true\"\u001b[0m\u001b[1;33m)\u001b[0m\u001b[1;33m\u001b[0m\u001b[1;33m\u001b[0m\u001b[0m\n",
      "\u001b[1;31mAttributeError\u001b[0m: type object 'dict' has no attribute 'dict_values'"
     ]
    }
   ],
   "source": [
    "that = {1:2}\n",
    "print(type(that.values()))\n",
    "if isinstance(that.values(), dict.dict_values):\n",
    "    print(\"true\")"
   ]
  },
  {
   "cell_type": "code",
   "execution_count": 28,
   "metadata": {},
   "outputs": [],
   "source": [
    "from random import shuffle"
   ]
  },
  {
   "cell_type": "code",
   "execution_count": 24,
   "metadata": {},
   "outputs": [
    {
     "name": "stdout",
     "output_type": "stream",
     "text": [
      "0b0000,0b0001,0b0010,0b0011,0b0100,0b0101,0b0110,0b0111,0b1000,0b1001,0b1010,0b1011,0b1100,0b1101,0b1110,0b1111,"
     ]
    }
   ],
   "source": [
    "for i in range(16):\n",
    "    print('0b'+format(i, '04b')+',', end='')"
   ]
  },
  {
   "cell_type": "code",
   "execution_count": 50,
   "metadata": {},
   "outputs": [],
   "source": [
    "class SubBox:\n",
    "    def __init__(self):\n",
    "        all_blocks = [0b0000,\n",
    "                      0b0001,\n",
    "                      0b0010,\n",
    "                      0b0011,\n",
    "                      0b0100,\n",
    "                      0b0101,\n",
    "                      0b0110,\n",
    "                      0b0111,\n",
    "                      0b1000,\n",
    "                      0b1001,\n",
    "                      0b1010,\n",
    "                      0b1011,\n",
    "                      0b1100,\n",
    "                      0b1101,\n",
    "                      0b1110,\n",
    "                      0b1111]\n",
    "        shuffled = [i for i in all_blocks]\n",
    "        shuffle(shuffled)\n",
    "        mapping = {}\n",
    "        for i in range(len(all_blocks)):\n",
    "            mapping[all_blocks[i]] = shuffled[i]\n",
    "        self.mapping = mapping\n",
    "    \n",
    "    def sub(self, input_block):\n",
    "        return self.mapping[input_block]\n",
    "\n",
    "def print_binary(input_block):\n",
    "    print(format(input_block, '04b'))"
   ]
  },
  {
   "cell_type": "code",
   "execution_count": 87,
   "metadata": {},
   "outputs": [],
   "source": [
    "class PermBox:\n",
    "    def __init__(self):\n",
    "        self.position = [i for i in range(16)]\n",
    "        shuffle(self.position)\n",
    "        \n",
    "    # input is 16-bit binary\n",
    "    def perm(self, binary):\n",
    "        binary_str = format(binary, '016b')\n",
    "        bit_array = [bit for bit in binary_str]\n",
    "    \n",
    "        result = []\n",
    "        for i in range(len(self.position)):\n",
    "            result.append(bit_array[self.position[i]])\n",
    "            \n",
    "        binary_str = \"\"\n",
    "        for bit in result:\n",
    "            binary_str += bit\n",
    "        return int(binary_str, 2)\n",
    "    \n",
    "    def bonding(self):\n",
    "        return"
   ]
  },
  {
   "cell_type": "code",
   "execution_count": 27,
   "metadata": {},
   "outputs": [
    {
     "data": {
      "text/plain": [
       "'011010'"
      ]
     },
     "execution_count": 27,
     "metadata": {},
     "output_type": "execute_result"
    }
   ],
   "source": [
    "this = 0b110011\n",
    "that = 0b101001\n",
    "format(this^that, '06b')"
   ]
  },
  {
   "cell_type": "code",
   "execution_count": null,
   "metadata": {},
   "outputs": [],
   "source": [
    "class SPN:\n",
    "    def __init__(self):\n",
    "        self.sbox1 = SubBox()\n",
    "        self.sbox2 = SubBox()\n",
    "        self.sbox3 = SubBox()\n",
    "        self.sbox4 = SubBox()\n",
    "        self.pbox = PermBox()\n",
    "        \n",
    "    def encrypt(self, input_key, plaintext):\n",
    "        # input key will undergo KSA here\n",
    "        # for testing purposes, assume len(input_key) = 16x4\n",
    "        \n",
    "        # ============================== round 1 ============================== #\n",
    "        round_key_0 = slice_bin(0, 16, input_key, 64)\n",
    "        xor_result_0 = round_key_0 ^ plaintext\n",
    "        \n",
    "        sbox1_result = self.sbox1.sub(slice_bin(0, 4, xor_result_0, 16))\n",
    "        sbox2_result = self.sbox2.sub(slice_bin(4, 8, xor_result_0, 16))\n",
    "        sbox3_result = self.sbox3.sub(slice_bin(8, 12, xor_result_0, 16))\n",
    "        sbox4_result = self.sbox4.sub(slice_bin(12, 16, xor_result_0, 16))\n",
    "        sbox_result = join_bin(sbox1_result, sbox2_result, sbox3_result, sbox4_result)\n",
    "        round_1_result = self.pbox.perm(sbox_result)\n",
    "        # ============================== round 1 ============================== #\n",
    "        \n",
    "        \n",
    "        # ============================== round 2 ============================== #\n",
    "        round_key_1 = slice_bin(16, 32, input_key, 64)\n",
    "        xor_result_1 = round_key_1 ^ round_1_result\n",
    "        \n",
    "        sbox1_result = self.sbox1.sub(slice_bin(0, 4, xor_result_1, 16))\n",
    "        sbox2_result = self.sbox2.sub(slice_bin(4, 8, xor_result_1, 16))\n",
    "        sbox3_result = self.sbox3.sub(slice_bin(8, 12, xor_result_1, 16))\n",
    "        sbox4_result = self.sbox4.sub(slice_bin(12, 16, xor_result_1, 16))\n",
    "        sbox_result = join_bin(sbox1_result, sbox2_result, sbox3_result, sbox4_result)\n",
    "        round_2_result = self.pbox.perm(sbox_result)\n",
    "        # ============================== round 2 ============================== #\n",
    "        \n",
    "        \n",
    "        # ============================== round 3 ============================== #\n",
    "        round_key_2 = slice_bin(32, 48, input_key, 64)\n",
    "        xor_result_2 = round_key_2 ^ round_2_result\n",
    "        \n",
    "        sbox1_result = self.sbox1.sub(slice_bin(0, 4, xor_result_2, 16))\n",
    "        sbox2_result = self.sbox2.sub(slice_bin(4, 8, xor_result_2, 16))\n",
    "        sbox3_result = self.sbox3.sub(slice_bin(8, 12, xor_result_2, 16))\n",
    "        sbox4_result = self.sbox4.sub(slice_bin(12, 16, xor_result_2, 16))\n",
    "        sbox_result = join_bin(sbox1_result, sbox2_result, sbox3_result, sbox4_result)\n",
    "        round_3_result = self.pbox.perm(sbox_result)\n",
    "        # ============================== round 3 ============================== #\n",
    "        \n",
    "        \n",
    "        # ============================== round 4 ============================== #\n",
    "        round_key_3 = slice_bin(48, 64, input_key, 64)\n",
    "        xor_result_3 = round_key_0 ^ round_3_result\n",
    "        # ============================== round 4 ============================== #\n",
    "        \n",
    "        return xor_result_3\n",
    "    \n",
    "    def decrypt(self):\n",
    "        return\n",
    "    \n",
    "    def slice_bin(self, lower_bound, upper_bound, binary, length):\n",
    "        if length == 64:\n",
    "            binary_string = format(binary, '064b')\n",
    "        elif length == 16:\n",
    "            binary_string = format(binary, '016b')\n",
    "            \n",
    "        return int(binary_string[lower_bound:upper_bound], 2)\n",
    "\n",
    "    def join_bin(self, binary_0, binary_1, binary_2, binary_3):\n",
    "        binary_0_str = format(binary_0, '04b')\n",
    "        binary_1_str = format(binary_1, '04b')\n",
    "        binary_2_str = format(binary_2, '04b')\n",
    "        binary_3_str = format(binary_3, '04b')\n",
    "        \n",
    "        return int(binary_0_str+binary_1_str+binary_2_str+binary_3_str, 2)"
   ]
  },
  {
   "cell_type": "code",
   "execution_count": 129,
   "metadata": {},
   "outputs": [
    {
     "data": {
      "text/plain": [
       "'0111'"
      ]
     },
     "execution_count": 129,
     "metadata": {},
     "output_type": "execute_result"
    }
   ],
   "source": [
    "key = 0b0111\n",
    "var = format(key, '04b')\n",
    "var"
   ]
  },
  {
   "cell_type": "code",
   "execution_count": 130,
   "metadata": {},
   "outputs": [
    {
     "data": {
      "text/plain": [
       "'0111'"
      ]
     },
     "execution_count": 130,
     "metadata": {},
     "output_type": "execute_result"
    }
   ],
   "source": [
    "var"
   ]
  },
  {
   "cell_type": "code",
   "execution_count": 131,
   "metadata": {},
   "outputs": [
    {
     "data": {
      "text/plain": [
       "7"
      ]
     },
     "execution_count": 131,
     "metadata": {},
     "output_type": "execute_result"
    }
   ],
   "source": [
    "int(var, 2)"
   ]
  },
  {
   "cell_type": "code",
   "execution_count": 135,
   "metadata": {},
   "outputs": [
    {
     "data": {
      "text/plain": [
       "'123'"
      ]
     },
     "execution_count": 135,
     "metadata": {},
     "output_type": "execute_result"
    }
   ],
   "source": [
    "test = ['1', '2', '3']\n",
    "res = \"\"\n",
    "for i in test:\n",
    "    res += i\n",
    "res"
   ]
  },
  {
   "cell_type": "code",
   "execution_count": 133,
   "metadata": {},
   "outputs": [
    {
     "data": {
      "text/plain": [
       "'0000000000000111'"
      ]
     },
     "execution_count": 133,
     "metadata": {},
     "output_type": "execute_result"
    }
   ],
   "source": [
    "format(7, '016b')"
   ]
  },
  {
   "cell_type": "code",
   "execution_count": 139,
   "metadata": {},
   "outputs": [],
   "source": [
    "mydict = {'a':2, 'b':1}"
   ]
  },
  {
   "cell_type": "code",
   "execution_count": 140,
   "metadata": {},
   "outputs": [
    {
     "name": "stdout",
     "output_type": "stream",
     "text": [
      "b\n"
     ]
    }
   ],
   "source": [
    "print(list(mydict.keys())[list(mydict.values()).index(1)])"
   ]
  },
  {
   "cell_type": "code",
   "execution_count": null,
   "metadata": {},
   "outputs": [],
   "source": []
  }
 ],
 "metadata": {
  "kernelspec": {
   "display_name": "Python 3",
   "language": "python",
   "name": "python3"
  },
  "language_info": {
   "codemirror_mode": {
    "name": "ipython",
    "version": 3
   },
   "file_extension": ".py",
   "mimetype": "text/x-python",
   "name": "python",
   "nbconvert_exporter": "python",
   "pygments_lexer": "ipython3",
   "version": "3.8.3"
  }
 },
 "nbformat": 4,
 "nbformat_minor": 4
}
